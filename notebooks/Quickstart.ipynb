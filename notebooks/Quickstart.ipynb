{
 "cells": [
  {
   "cell_type": "code",
   "execution_count": 6,
   "metadata": {},
   "outputs": [],
   "source": [
    "#r \"nuget:MXNetSharp,version=0.0.1-alpha\""
   ]
  },
  {
   "cell_type": "code",
   "execution_count": 7,
   "metadata": {},
   "outputs": [],
   "source": [
    "open MXNetSharp"
   ]
  },
  {
   "cell_type": "markdown",
   "metadata": {},
   "source": [
    "# Symbol API"
   ]
  },
  {
   "cell_type": "code",
   "execution_count": 18,
   "metadata": {},
   "outputs": [],
   "source": [
    "let x = Variable \"x\" // Symbol\n",
    "let y = Variable \"y\" // Symbol\n",
    "\n",
    "// elementwise multiplication\n",
    "let z = x * y //x and y will be infered to have the same shape\n",
    "\n",
    "// broadcast multiplication\n",
    "let z2 = x .* y // x and y shapes can differ according to the rules of MXNet broadcasting\n",
    "\n",
    "// scalar multiplication, overloads are for type `double` but will match type of x\n",
    "let z3 = 4.0*x\n",
    "\n",
    "// broadcast operators for +, -, /, and such are analogous to above\n",
    "// comparison operators at the moment are by default prefixed with a `.` and have no broadcast equivalents\n",
    "let z4 = x .= y // elementwise\n",
    "\n",
    "// logical operators do have broadcast equivalents\n",
    "let z5 = x .&& y // elementwise\n",
    "let z6 = x ..&& y // broadcast\n",
    "\n",
    "// For operators sqrt, exp, pow and such we need to open MXNetSharp.PrimitiveOperators\n",
    "open MXNetSharp.PrimitiveOperators\n",
    "let z7 = exp x"
   ]
  }
 ],
 "metadata": {
  "kernelspec": {
   "display_name": ".NET (F#)",
   "language": "F#",
   "name": ".net-fsharp"
  },
  "language_info": {
   "file_extension": ".fs",
   "mimetype": "text/x-fsharp",
   "name": "C#",
   "pygments_lexer": "fsharp",
   "version": "4.5"
  }
 },
 "nbformat": 4,
 "nbformat_minor": 4
}
